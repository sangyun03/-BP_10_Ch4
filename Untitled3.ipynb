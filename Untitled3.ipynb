{
  "nbformat": 4,
  "nbformat_minor": 0,
  "metadata": {
    "colab": {
      "provenance": [],
      "authorship_tag": "ABX9TyNMeni9G16Nx/20Ch0rrYxk",
      "include_colab_link": true
    },
    "kernelspec": {
      "name": "python3",
      "display_name": "Python 3"
    },
    "language_info": {
      "name": "python"
    }
  },
  "cells": [
    {
      "cell_type": "markdown",
      "metadata": {
        "id": "view-in-github",
        "colab_type": "text"
      },
      "source": [
        "<a href=\"https://colab.research.google.com/github/sangyun03/-BP_10_Ch4/blob/main/Untitled3.ipynb\" target=\"_parent\"><img src=\"https://colab.research.google.com/assets/colab-badge.svg\" alt=\"Open In Colab\"/></a>"
      ]
    },
    {
      "cell_type": "code",
      "execution_count": 23,
      "metadata": {
        "colab": {
          "base_uri": "https://localhost:8080/",
          "height": 35
        },
        "id": "rRKUdLNYHV7V",
        "outputId": "b6a23c6f-57e3-400c-a54a-3cff31b9cd8e"
      },
      "outputs": [
        {
          "output_type": "execute_result",
          "data": {
            "text/plain": [
              "'나는12개의 사과를 먹었다.'"
            ],
            "application/vnd.google.colaboratory.intrinsic+json": {
              "type": "string"
            }
          },
          "metadata": {},
          "execution_count": 23
        }
      ],
      "source": [
        "\"나는\"+ \"12\" + \"개의 사과를 먹었다.\""
      ]
    },
    {
      "cell_type": "code",
      "source": [
        "'apple' + 'grape'\n",
        "'apple' *3"
      ],
      "metadata": {
        "colab": {
          "base_uri": "https://localhost:8080/",
          "height": 35
        },
        "id": "p50ZDFVGIUYc",
        "outputId": "3a69c5a2-5d70-41e0-e267-114d9f3fbea4"
      },
      "execution_count": 8,
      "outputs": [
        {
          "output_type": "execute_result",
          "data": {
            "text/plain": [
              "'appleappleapple'"
            ],
            "application/vnd.google.colaboratory.intrinsic+json": {
              "type": "string"
            }
          },
          "metadata": {},
          "execution_count": 8
        }
      ]
    },
    {
      "cell_type": "code",
      "source": [
        "s = input(\"문자열을 입력하시오: \")\n",
        "print(s[0:2] + s[4:])"
      ],
      "metadata": {
        "colab": {
          "base_uri": "https://localhost:8080/"
        },
        "id": "y-xt9UdTIt5D",
        "outputId": "9eab2e8f-db61-42c1-a3d5-c283be01e5ff"
      },
      "execution_count": 7,
      "outputs": [
        {
          "output_type": "stream",
          "name": "stdout",
          "text": [
            "문자열을 입력하시오: python\n",
            "pyon\n"
          ]
        }
      ]
    },
    {
      "cell_type": "code",
      "source": [
        "str = input(\"문자열을 입력하시오: \")\n",
        "print(str + \"하는 중\")"
      ],
      "metadata": {
        "colab": {
          "base_uri": "https://localhost:8080/"
        },
        "id": "l-JQvnl2JLfR",
        "outputId": "7aca4c17-31bc-45aa-cd9b-4d399739ff74"
      },
      "execution_count": 9,
      "outputs": [
        {
          "output_type": "stream",
          "name": "stdout",
          "text": [
            "문자열을 입력하시오: 청소\n",
            "청소하는 중\n"
          ]
        }
      ]
    },
    {
      "cell_type": "code",
      "source": [
        "p = input(\"기호를 입력해주세요: \")\n",
        "s = input(\"중간에 삽입할 문자열을 입력하시오: \")\n",
        "\n",
        "print(p[0] + s + p[1])\n"
      ],
      "metadata": {
        "colab": {
          "base_uri": "https://localhost:8080/"
        },
        "id": "BceXmTWBJZwI",
        "outputId": "0e9770ff-e455-4249-a73d-4d194c30a72f"
      },
      "execution_count": 10,
      "outputs": [
        {
          "output_type": "stream",
          "name": "stdout",
          "text": [
            "기호를 입력해주세요: []\n",
            "중간에 삽입할 문자열을 입력하시오: python\n",
            "[python]\n"
          ]
        }
      ]
    },
    {
      "cell_type": "code",
      "source": [
        "list = ['1', '2', '3', '4']\n",
        "\n",
        "\n",
        "sum = int(list[0]) + int(list[1]) + int(list[2]) + int(list[3])\n",
        "\n",
        "print(\"리스트 = \", list)\n",
        "print(\"리스트 숫자들의 합: \", sum)\n"
      ],
      "metadata": {
        "colab": {
          "base_uri": "https://localhost:8080/"
        },
        "id": "xpSk5t9vKG8R",
        "outputId": "02dd7189-9932-4b41-8cac-832fc8cc31fa"
      },
      "execution_count": 17,
      "outputs": [
        {
          "output_type": "stream",
          "name": "stdout",
          "text": [
            "리스트 =  ['1', '2', '3', '4']\n",
            "리스트 숫자들의 합:  10\n"
          ]
        }
      ]
    }
  ]
}